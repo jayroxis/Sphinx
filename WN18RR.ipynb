{
 "cells": [
  {
   "cell_type": "code",
   "execution_count": 1,
   "metadata": {},
   "outputs": [],
   "source": [
    "import sys\n",
    "import numpy as np\n",
    "import pandas as pd\n",
    "from sklearn.preprocessing import OneHotEncoder, LabelBinarizer\n",
    "\n",
    "import torch\n",
    "from torch import optim\n",
    "from torch.autograd import Variable,gradcheck\n",
    "from torch.utils.data import DataLoader\n",
    "\n",
    "import seaborn as sns\n",
    "\n",
    "sys.path.append('../scripts')"
   ]
  },
  {
   "cell_type": "code",
   "execution_count": 2,
   "metadata": {},
   "outputs": [],
   "source": [
    "class DatasetLoader:\n",
    "    def __init__(self, path):\n",
    "        with open(path, 'r') as f:\n",
    "            self.data = f.read().splitlines()\n",
    "        split_tab = lambda x: [item.split('\\t') for item in x]\n",
    "        self.data = split_tab(self.data)\n",
    "        self.num_data = len(self.data)\n",
    "        self.arr = np.array(self.data)\n",
    "        self.df = pd.DataFrame({\n",
    "            'start': self.arr[:, 0],\n",
    "            'relation': self.arr[:, 1],\n",
    "            'dest': self.arr[:, 2]\n",
    "        })\n",
    "        \n",
    "        # get one_hot relation\n",
    "        one_hot_relation = [[item[1],] for item in self.data]\n",
    "        self.enc = OneHotEncoder().fit(one_hot_relation)\n",
    "        self.one_hot_relation = self.enc.transform(one_hot_relation).toarray()\n",
    "        self.y_index = np.argmax(self.one_hot_relation, axis=1)\n",
    "        \n",
    "        # get unique edges and nodes\n",
    "        self.unique_relations = np.unique(self.arr[:, 1])\n",
    "        self.num_relations = len(self.unique_relations)\n",
    "        self.unique_nodes = np.unique(self.arr[:, (0, 2)])\n",
    "        self.num_nodes = len(self.unique_nodes)\n",
    "        self.node_dict = self.get_node_dict()\n",
    "    \n",
    "    def encode_index(self, ext_dict=None):\n",
    "        if ext_dict is None:\n",
    "            enc_dict = self.node_dict\n",
    "        else:\n",
    "            enc_dict = ext_dict\n",
    "        start = self.arr[:, 0]\n",
    "        end = self.arr[:, 2]\n",
    "        start = np.stack([enc_dict[item] for item in start])\n",
    "        end = np.stack([enc_dict[item] for item in end])\n",
    "        return np.concatenate((start, end), axis=1)\n",
    "    \n",
    "    def get_node_dict(self):\n",
    "        unpack_bits = lambda num, m: np.array(list(np.binary_repr(num).zfill(m))).astype(np.uint8)\n",
    "        m = np.log2(self.num_nodes).astype(np.uint8) + 1\n",
    "        return {self.unique_nodes[i]: unpack_bits(i, m) for i in range(self.num_nodes)}"
   ]
  },
  {
   "cell_type": "code",
   "execution_count": 3,
   "metadata": {},
   "outputs": [
    {
     "name": "stdout",
     "output_type": "stream",
     "text": [
      "Number of Training: 86835\n",
      "Number of Test: 3134\n",
      "Number of Validation: 3034\n",
      "\n",
      "Number of Total Relations: 11\n",
      "Training Relations: 11\n",
      "Valiation Relations: 11\n",
      "Test Relations: 11\n",
      "\n",
      "Number of Total Nodes: 40943\n",
      "Training Nodes: 40559\n",
      "Valiation Nodes: 5173\n",
      "Test Nodes: 5323\n"
     ]
    }
   ],
   "source": [
    "verbose = False\n",
    "data_path = '../datasets/WN18RR/'    \n",
    "\n",
    "# datasets\n",
    "train = DatasetLoader(data_path + 'train.txt')\n",
    "test = DatasetLoader(data_path + 'test.txt')\n",
    "val = DatasetLoader(data_path + 'valid.txt')\n",
    "\n",
    "# get uniques\n",
    "relations_all = np.concatenate((train.arr[:, 1], val.arr[:, 1], test.arr[:, 1]))\n",
    "relations = np.unique(relations_all)\n",
    "nodes_all = np.concatenate((train.arr[:, (0, 2)], val.arr[:, (0, 2)], test.arr[:, (0, 2)]))\n",
    "nodes = np.unique(nodes_all)\n",
    "np.random.shuffle(nodes)\n",
    "\n",
    "print('Number of Training:', len(train.arr))\n",
    "print('Number of Test:', len(test.arr))\n",
    "print('Number of Validation:', len(val.arr))\n",
    "print()\n",
    "print('Number of Total Relations:', len(relations))\n",
    "print('Training Relations:', len(np.unique(train.arr[:, 1])))\n",
    "print('Valiation Relations:', len(np.unique(val.arr[:, 1])))\n",
    "print('Test Relations:', len(np.unique(test.arr[:, 1])))\n",
    "print()\n",
    "print('Number of Total Nodes:', len(nodes))\n",
    "print('Training Nodes:', len(np.unique(train.arr[:, (0, 2)])))\n",
    "print('Valiation Nodes:', len(np.unique(val.arr[:, (0, 2)])))\n",
    "print('Test Nodes:', len(np.unique(test.arr[:, (0, 2)])))\n",
    "\n",
    "if verbose:\n",
    "    print('Unique Relations:', relations)"
   ]
  },
  {
   "cell_type": "code",
   "execution_count": 4,
   "metadata": {},
   "outputs": [],
   "source": [
    "# create encoded nodes dict\n",
    "unpack_bits = lambda num, m: np.array(list(np.binary_repr(num).zfill(m))).astype(np.uint8)\n",
    "m = np.log2(len(nodes)).astype(np.uint8) + 1\n",
    "node_dict = {nodes[i]: unpack_bits(i, m) for i in range(len(nodes))}\n",
    "\n",
    "X_train = train.encode_index(ext_dict=node_dict)\n",
    "X_val = val.encode_index(ext_dict=node_dict)\n",
    "X_test = test.encode_index(ext_dict=node_dict)\n",
    "\n",
    "y_train = train.y_index\n",
    "y_val = val.y_index\n",
    "y_test = test.y_index"
   ]
  },
  {
   "cell_type": "code",
   "execution_count": 5,
   "metadata": {},
   "outputs": [
    {
     "name": "stdout",
     "output_type": "stream",
     "text": [
      "CPU times: user 1.93 s, sys: 766 ms, total: 2.69 s\n",
      "Wall time: 2.72 s\n"
     ]
    }
   ],
   "source": [
    "%%time\n",
    "\n",
    "from DNN import DNN\n",
    "\n",
    "# CUDA support \n",
    "if torch.cuda.is_available():\n",
    "    device = torch.device('cuda:0')\n",
    "else:\n",
    "    device = torch.device('cpu')\n",
    "\n",
    "# model settings\n",
    "D_in  = X_train.shape[1]\n",
    "D_out = len(relations)\n",
    "H = 100\n",
    "Depth = 3\n",
    "NUMEPOCHS = 500\n",
    "Batch_size = 2000\n",
    "\n",
    "model = DNN(\n",
    "    input_size=D_in,\n",
    "    output_size=D_out,\n",
    "    hidden_size=H,\n",
    "    depth=Depth\n",
    ").to(device)\n",
    "\n",
    "# Loss Function\n",
    "criterion = torch.nn.CrossEntropyLoss()\n",
    "\n",
    "# Optimizer\n",
    "optimizer = optim.Adamax(model.parameters())"
   ]
  },
  {
   "cell_type": "code",
   "execution_count": 6,
   "metadata": {},
   "outputs": [
    {
     "name": "stdout",
     "output_type": "stream",
     "text": [
      "torch.Size([86835, 32])\n",
      "torch.Size([86835])\n",
      "torch.Size([3034, 32])\n",
      "torch.Size([3034])\n",
      "torch.Size([3134, 32])\n",
      "torch.Size([3134])\n"
     ]
    }
   ],
   "source": [
    "# Input Data\n",
    "trainX = Variable(torch.from_numpy(X_train).float())\n",
    "trainY = Variable(torch.from_numpy(y_train).long())\n",
    "valX = Variable(torch.from_numpy(X_val).float())\n",
    "valY = Variable(torch.from_numpy(y_val).long())\n",
    "testX = Variable(torch.from_numpy(X_test).float())\n",
    "testY = Variable(torch.from_numpy(y_test).long())\n",
    "\n",
    "print(trainX.shape)\n",
    "print(trainY.shape)\n",
    "print(valX.shape)\n",
    "print(valY.shape)\n",
    "print(testX.shape)\n",
    "print(testY.shape)\n",
    "\n",
    "if torch.cuda.is_available():\n",
    "    trainX = trainX.to(device)\n",
    "    trainY = trainY.to(device)\n",
    "    testX = testX.to(device)\n",
    "    testY = testY.to(device)\n",
    "    valX = valX.to(device)\n",
    "    valY = valY.to(device)\n",
    "    \n",
    "data_train_loader = DataLoader(\n",
    "    list(zip(trainX,trainY)), \n",
    "    batch_size=Batch_size, \n",
    "    shuffle=True\n",
    ")"
   ]
  },
  {
   "cell_type": "code",
   "execution_count": 7,
   "metadata": {},
   "outputs": [
    {
     "name": "stdout",
     "output_type": "stream",
     "text": [
      "Epochs\n",
      "0, 1.6517834717577153 1.553648829460144\n",
      "50, 1.3785558695142919 1.4101084470748901\n",
      "100, 1.2712329897013577 1.3275004625320435\n",
      "Early stop at epoch 126\n",
      "\n",
      "Training Complete\n",
      "CPU times: user 45.6 s, sys: 606 ms, total: 46.2 s\n",
      "Wall time: 46.2 s\n"
     ]
    }
   ],
   "source": [
    "%%time\n",
    "# Train the model\n",
    "print(\"Epochs\")\n",
    "loss_list = np.zeros(NUMEPOCHS)\n",
    "val_list = np.zeros(NUMEPOCHS)\n",
    "\n",
    "early_stop_win_size = 20\n",
    "\n",
    "for epoch in range(NUMEPOCHS):\n",
    "    losses = 0\n",
    "    for batchX, batchY in data_train_loader: \n",
    "        # Forward pass\n",
    "        outputs = model(batchX)\n",
    "        loss = criterion(outputs, batchY)\n",
    "        \n",
    "        # Backward and optimize\n",
    "        optimizer.zero_grad()\n",
    "        loss.backward()     \n",
    "        optimizer.step()\n",
    "        losses += loss.item()\n",
    "    losses /= len(data_train_loader)\n",
    "    loss_list[epoch] = losses\n",
    "    val_list[epoch] = criterion(model(valX), valY).item()\n",
    "    \n",
    "    # early stop to prevent overfitting  \n",
    "    if epoch > early_stop_win_size:\n",
    "        mean_val_loss = np.mean(val_list[epoch-early_stop_win_size:epoch+1])\n",
    "        if val_list[epoch] > mean_val_loss:\n",
    "            print('Early stop at epoch', epoch)\n",
    "            val_list = val_list[:epoch + 1]\n",
    "            loss_list = loss_list[:epoch + 1]\n",
    "            break\n",
    "    \n",
    "    # Print Epochs and Losses to Monitor Convergence\n",
    "    if epoch % 50 == 0:\n",
    "        print(\"{}\".format(epoch),end = \", \")\n",
    "        print(losses, val_list[epoch])\n",
    "        \n",
    "print('\\nTraining Complete')"
   ]
  },
  {
   "cell_type": "code",
   "execution_count": 8,
   "metadata": {},
   "outputs": [
    {
     "data": {
      "text/plain": [
       "<matplotlib.axes._subplots.AxesSubplot at 0x7fca854dfdd8>"
      ]
     },
     "execution_count": 8,
     "metadata": {},
     "output_type": "execute_result"
    },
    {
     "data": {
      "image/png": "[encoded data removed]",
      "text/plain": [
       "<Figure size 432x288 with 1 Axes>"
      ]
     },
     "metadata": {
      "needs_background": "light"
     },
     "output_type": "display_data"
    }
   ],
   "source": [
    "loss_df = pd.DataFrame({\n",
    "    'Training Loss': loss_list,\n",
    "    'Validation Loss': val_list\n",
    "})\n",
    "sns.lineplot(data=loss_df)"
   ]
  },
  {
   "cell_type": "code",
   "execution_count": 9,
   "metadata": {},
   "outputs": [],
   "source": [
    "from sklearn.metrics import accuracy_score, f1_score, roc_auc_score\n",
    "from sklearn.metrics import label_ranking_loss, label_ranking_average_precision_score, coverage_error\n",
    "def evaluate(X, Y, name):\n",
    "    score = model(X).detach().cpu().numpy()\n",
    "    pred = np.argmax(score, axis=1)\n",
    "    score = (\n",
    "        score - np.min(score, axis=1)[:, np.newaxis]\n",
    "    ) / (\n",
    "        np.max(score, axis=1) - np.min(score, axis=1)\n",
    "    )[:, np.newaxis]\n",
    "    \n",
    "    true = Y.cpu().numpy()\n",
    "    true_score = np.zeros_like(score)\n",
    "    true_score[np.arange(len(true_score)), true] += 1\n",
    "    \n",
    "    hit_3 = score.argsort(axis=1)[np.arange(len(score)), -3:]\n",
    "    hit_10 = score.argsort(axis=1)[np.arange(len(score)), -10:]\n",
    "    hit_3 = np.sum(np.max(true[:, np.newaxis] == hit_3, axis=1)) / len(score)\n",
    "    hit_10 = np.sum(np.max(true[:, np.newaxis] == hit_10, axis=1)) / len(score)\n",
    "    \n",
    "    print(name + ' Accuracy:\\t', accuracy_score(true, pred))\n",
    "    print(name + ' F1-micro:\\t', f1_score(true, pred, average='micro'))\n",
    "    print(name + ' F1-macro:\\t', f1_score(true, pred, average='macro'))\n",
    "    print(name + ' MRR:\\t', label_ranking_average_precision_score(true_score, score))\n",
    "    print(name + ' Ranking Loss:\\t', label_ranking_loss(true_score, score))\n",
    "    print(name + ' Coverage Error:\\t', coverage_error(true_score, score))\n",
    "    print(name + ' Hit@1:\\t', accuracy_score(true, pred))\n",
    "    print(name + ' Hit@3:\\t', hit_3)\n",
    "    print(name + ' Hit@10:\\t', hit_10)\n",
    "    print()"
   ]
  },
  {
   "cell_type": "code",
   "execution_count": 10,
   "metadata": {},
   "outputs": [
    {
     "name": "stdout",
     "output_type": "stream",
     "text": [
      "Test Labels :\n",
      " [ 7 10  6 ...  1  2  3]\n",
      "Test Predictions :\n",
      " [7 1 6 ... 3 3 3]\n",
      "\n",
      "Training Accuracy:\t 0.5149075833477285\n",
      "Training F1-micro:\t 0.5149075833477285\n",
      "Training F1-macro:\t 0.3789540573407701\n"
     ]
    },
    {
     "name": "stderr",
     "output_type": "stream",
     "text": [
      "/home/jayroxis/venv/lib/python3.6/site-packages/sklearn/metrics/classification.py:1437: UndefinedMetricWarning: F-score is ill-defined and being set to 0.0 in labels with no predicted samples.\n",
      "  'precision', 'predicted', average, warn_for)\n"
     ]
    },
    {
     "name": "stdout",
     "output_type": "stream",
     "text": [
      "Training MRR:\t 0.7114762398309181\n",
      "Training Ranking Loss:\t 0.0901284044452122\n",
      "Training Coverage Error:\t 1.9012840444521217\n",
      "Training Hit@1:\t 0.5149075833477285\n",
      "Training Hit@3:\t 0.8965969942995335\n",
      "Training Hit@10:\t 0.9997466459376979\n",
      "\n",
      "Validation Accuracy:\t 0.48055372445616346\n",
      "Validation F1-micro:\t 0.48055372445616346\n",
      "Validation F1-macro:\t 0.3386825129137016\n",
      "Validation MRR:\t 0.69046586973416\n"
     ]
    },
    {
     "name": "stderr",
     "output_type": "stream",
     "text": [
      "/home/jayroxis/venv/lib/python3.6/site-packages/sklearn/metrics/classification.py:1437: UndefinedMetricWarning: F-score is ill-defined and being set to 0.0 in labels with no predicted samples.\n",
      "  'precision', 'predicted', average, warn_for)\n"
     ]
    },
    {
     "name": "stdout",
     "output_type": "stream",
     "text": [
      "Validation Ranking Loss:\t 0.09924192485168096\n",
      "Validation Coverage Error:\t 1.9924192485168095\n",
      "Validation Hit@1:\t 0.48055372445616346\n",
      "Validation Hit@3:\t 0.8839815425181279\n",
      "Validation Hit@10:\t 0.9996704021094265\n",
      "\n",
      "Test Accuracy:\t 0.4856413529036375\n",
      "Test F1-micro:\t 0.4856413529036375\n",
      "Test F1-macro:\t 0.3624229512762107\n",
      "Test MRR:\t 0.6936066610125309\n"
     ]
    },
    {
     "name": "stderr",
     "output_type": "stream",
     "text": [
      "/home/jayroxis/venv/lib/python3.6/site-packages/sklearn/metrics/classification.py:1437: UndefinedMetricWarning: F-score is ill-defined and being set to 0.0 in labels with no predicted samples.\n",
      "  'precision', 'predicted', average, warn_for)\n"
     ]
    },
    {
     "name": "stdout",
     "output_type": "stream",
     "text": [
      "Test Ranking Loss:\t 0.09818123803446077\n",
      "Test Coverage Error:\t 1.9818123803446075\n",
      "Test Hit@1:\t 0.4856413529036375\n",
      "Test Hit@3:\t 0.8864071474154436\n",
      "Test Hit@10:\t 0.9984045947670709\n",
      "\n"
     ]
    }
   ],
   "source": [
    "print('Test Labels :\\n', testY.cpu().numpy())\n",
    "print('Test Predictions :\\n', np.argmax(model(testX).detach().cpu().numpy(), axis=1))\n",
    "print()\n",
    "\n",
    "evaluate(trainX, trainY, 'Training')\n",
    "evaluate(valX, valY, 'Validation')\n",
    "evaluate(testX, testY, 'Test')"
   ]
  }
 ],
 "metadata": {
  "kernelspec": {
   "display_name": "Python 3",
   "language": "python",
   "name": "python3"
  },
  "language_info": {
   "codemirror_mode": {
    "name": "ipython",
    "version": 3
   },
   "file_extension": ".py",
   "mimetype": "text/x-python",
   "name": "python",
   "nbconvert_exporter": "python",
   "pygments_lexer": "ipython3",
   "version": "3.6.7"
  }
 },
 "nbformat": 4,
 "nbformat_minor": 2
}
